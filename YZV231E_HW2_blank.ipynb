{
  "cells": [
    {
      "cell_type": "markdown",
      "metadata": {
        "id": "DhjA8l9dehhr"
      },
      "source": [
        "## Coding (30 pts)"
      ]
    },
    {
      "cell_type": "code",
      "execution_count": 1,
      "metadata": {
        "id": "K7WDVNq068fa"
      },
      "outputs": [],
      "source": [
        "# Please do not add any other libraries, these should be enough\n",
        "import numpy as np\n",
        "import random\n",
        "import matplotlib.pyplot as plt\n",
        "from scipy.stats import binom, uniform, bernoulli, randint, geom\n",
        "%matplotlib inline"
      ]
    },
    {
      "cell_type": "markdown",
      "metadata": {
        "id": "uz3VuFjaehht"
      },
      "source": [
        "## Question 1\n",
        "\n",
        "---\n",
        "\n"
      ]
    },
    {
      "cell_type": "markdown",
      "metadata": {
        "id": "wONH-GrNehht"
      },
      "source": [
        "### Die Experiment (6 points)\n",
        "We will do a die rolling experiment with a fair die.\n",
        "\n",
        "**Calculating the Expectation:** $E[X] = \\sum_{x \\in \\Omega_{X}}{x\\cdot p_X[x]}$\n",
        "\n",
        "**Calculating the Variance:** $\\text{Var}(X) = E[(x - E[x])^2]$"
      ]
    },
    {
      "cell_type": "code",
      "execution_count": null,
      "metadata": {
        "colab": {
          "base_uri": "https://localhost:8080/"
        },
        "id": "PNymPs7Nehhu",
        "outputId": "1ebcd4f7-3edf-4054-9a76-c6fa6f963d5a"
      },
      "outputs": [],
      "source": [
        "def calculate_expectation(numbers, probs):\n",
        "    \"\"\"\n",
        "    Calculates the expectation with given number and probabilities\n",
        "    Returns the expectation\n",
        "    Args:\n",
        "        numbers: 1D list # values\n",
        "        probs: 1D list # probabilities\n",
        "    Return:\n",
        "        result: float\n",
        "    \"\"\"\n",
        "    result = None\n",
        "    #  /$$$$$$$$ /$$$$$$ /$$       /$$\n",
        "    # | $$_____/|_  $$_/| $$      | $$\n",
        "    # | $$        | $$  | $$      | $$\n",
        "    # | $$$$$     | $$  | $$      | $$\n",
        "    # | $$__/     | $$  | $$      | $$\n",
        "    # | $$        | $$  | $$      | $$\n",
        "    # | $$       /$$$$$$| $$$$$$$$| $$$$$$$$\n",
        "    # |__/      |______/|________/|________/\n",
        "    return result\n",
        "\n",
        "def calculate_variance(numbers, probs):\n",
        "    \"\"\"\n",
        "    Calculates the variance with given number and probabilities\n",
        "    Returns the variance\n",
        "    Args:\n",
        "        numbers: 1D list # values\n",
        "        probs: 1D list # probabilities\n",
        "    Return:\n",
        "        result: float\n",
        "    \"\"\"\n",
        "    result = None\n",
        "    #  /$$$$$$$$ /$$$$$$ /$$       /$$\n",
        "    # | $$_____/|_  $$_/| $$      | $$\n",
        "    # | $$        | $$  | $$      | $$\n",
        "    # | $$$$$     | $$  | $$      | $$\n",
        "    # | $$__/     | $$  | $$      | $$\n",
        "    # | $$        | $$  | $$      | $$\n",
        "    # | $$       /$$$$$$| $$$$$$$$| $$$$$$$$\n",
        "    # |__/      |______/|________/|________/\n",
        "    return result\n",
        "\n",
        "die = [i for i in range(1, 7)] # list of the numbers on the faces of the die\n",
        "die_probs = [1/6 for i in range(6)]# list of the probabilities for each number in the die\n",
        "\n",
        "die_expexted_value = calculate_expectation(die, die_probs)\n",
        "die_variance_value = calculate_variance(die, die_probs)\n",
        "print(f\"Expected value for die: {die_expexted_value:.3f}\")\n",
        "print(f\"Variance for die: {die_variance_value:.3f}\")"
      ]
    },
    {
      "cell_type": "markdown",
      "metadata": {
        "id": "tpzwv6N-ehhx"
      },
      "source": [
        "**Finding the average with experiments**"
      ]
    },
    {
      "cell_type": "code",
      "execution_count": null,
      "metadata": {
        "colab": {
          "base_uri": "https://localhost:8080/"
        },
        "id": "4yl7CNQ-ehhy",
        "outputId": "cad98081-3cff-4b72-cf2a-f595b32cc733"
      },
      "outputs": [],
      "source": [
        "def roll_die(n):\n",
        "    \"\"\"\n",
        "    roll die n times\n",
        "    Returns records of experiments\n",
        "    Args:\n",
        "        n: int # number of experiment\n",
        "    Return:\n",
        "        array: np.array with size of n\n",
        "    \"\"\"\n",
        "    array = []\n",
        "    #  /$$$$$$$$ /$$$$$$ /$$       /$$\n",
        "    # | $$_____/|_  $$_/| $$      | $$\n",
        "    # | $$        | $$  | $$      | $$\n",
        "    # | $$$$$     | $$  | $$      | $$\n",
        "    # | $$__/     | $$  | $$      | $$\n",
        "    # | $$        | $$  | $$      | $$\n",
        "    # | $$       /$$$$$$| $$$$$$$$| $$$$$$$$\n",
        "    # |__/      |______/|________/|________/\n",
        "    return np.array(array)\n",
        "\n",
        "ns = [1,5,10,50,100,500,1000,5000,10000, 50000, 100000] # number of rolls\n",
        "for n in ns:\n",
        "    rolls = roll_die(n) # rolling the dice for n times\n",
        "    # calculate the mean of the rolls\n",
        "    mean = rolls.mean()\n",
        "    print(f\"Average of {n} die rolls: {mean:.3f}\")\n"
      ]
    },
    {
      "cell_type": "markdown",
      "metadata": {
        "id": "4UNm2SmLehhz"
      },
      "source": [
        "## Question 2 (5 points)"
      ]
    },
    {
      "cell_type": "markdown",
      "metadata": {
        "id": "5j7rXdbNehh0"
      },
      "source": [
        "### Binomial Experiment\n",
        "In this part we will visualize the PMF and the CDF.\n",
        "\n",
        "We will use binomial distributions with n = 100 and p=0.2, p=0.5 and p=0.7, in that order.\n",
        "\n",
        "#### Visualizing the Probability Mass Function (PMF)"
      ]
    },
    {
      "cell_type": "code",
      "execution_count": null,
      "metadata": {
        "colab": {
          "base_uri": "https://localhost:8080/",
          "height": 584
        },
        "id": "znz2Ozs6ehh1",
        "outputId": "c10c3ba6-745f-4ea0-88d6-1390371b97ed"
      },
      "outputs": [],
      "source": [
        "n = 100 # number of trials\n",
        "probs = [0.2, 0.5, 0.7] # probabilities for each experiments' successful\n",
        "x = np.arange(0,101,1) # range\n",
        "plt.figure(figsize=(8,4))\n",
        "print(x)\n",
        "\n",
        "#  /$$$$$$$$ /$$$$$$ /$$       /$$\n",
        "# | $$_____/|_  $$_/| $$      | $$\n",
        "# | $$        | $$  | $$      | $$\n",
        "# | $$$$$     | $$  | $$      | $$\n",
        "# | $$__/     | $$  | $$      | $$\n",
        "# | $$        | $$  | $$      | $$\n",
        "# | $$       /$$$$$$| $$$$$$$$| $$$$$$$$\n",
        "# |__/      |______/|________/|________/\n",
        "\n",
        "plt.legend([\"$p=0.2$\",\"$p=0.5$\",\"$p=0.7$\"],fontsize=15)\n",
        "plt.title(\"Probability mass function: $\\\\binom{n}{k}\\, p^k (1-p)^{n-k}$\\n\",fontsize=20)\n",
        "plt.xlabel(\"Number of successful trials ($k$)\",fontsize=15)\n",
        "plt.ylabel(\"$P[k;n,p]$\",fontsize=15)\n",
        "plt.xticks(fontsize=15)\n",
        "plt.yticks(fontsize=15)\n",
        "plt.grid(True)\n",
        "plt.show()\n"
      ]
    },
    {
      "cell_type": "markdown",
      "metadata": {
        "id": "kXys0oYdehh2"
      },
      "source": [
        "#### Visualizing the Cumulative Distribution Function (CDF)"
      ]
    },
    {
      "cell_type": "code",
      "execution_count": null,
      "metadata": {
        "colab": {
          "base_uri": "https://localhost:8080/",
          "height": 433
        },
        "id": "dMYGxPkzehh3",
        "outputId": "b627df51-84b8-4546-992d-5f37b5e72871"
      },
      "outputs": [],
      "source": [
        "n = 100 # number of trials\n",
        "probs = [0.2, 0.5, 0.7] # probabilities for each experiments' successful\n",
        "x = np.arange(0,101,1) # range\n",
        "plt.figure(figsize=(8,4))\n",
        "\n",
        "#  /$$$$$$$$ /$$$$$$ /$$       /$$\n",
        "# | $$_____/|_  $$_/| $$      | $$\n",
        "# | $$        | $$  | $$      | $$\n",
        "# | $$$$$     | $$  | $$      | $$\n",
        "# | $$__/     | $$  | $$      | $$\n",
        "# | $$        | $$  | $$      | $$\n",
        "# | $$       /$$$$$$| $$$$$$$$| $$$$$$$$\n",
        "# |__/      |______/|________/|________/\n",
        "\n",
        "plt.legend([\"$p=0.2$\",\"$p=0.5$\",\"$p=0.7$\"],fontsize=15)\n",
        "plt.title(\"Cumulative distribution function:\",fontsize=20)\n",
        "plt.xlabel(\"Number of successful trials ($k$)\",fontsize=15)\n",
        "plt.ylabel(\"$F[k;n,p]$\",fontsize=15)\n",
        "plt.xticks(fontsize=15)\n",
        "plt.yticks(fontsize=15)\n",
        "plt.grid(True)\n",
        "plt.show()\n"
      ]
    },
    {
      "cell_type": "markdown",
      "metadata": {
        "id": "e0YP5ebCdaQz"
      },
      "source": [
        "## Question 3 (5 points)"
      ]
    },
    {
      "cell_type": "markdown",
      "metadata": {
        "id": "mm4bvUQedaQz"
      },
      "source": [
        "### Geometric Experiment\n",
        "In this part we will visualize the PMF and the CDF.\n",
        "\n",
        "We will use the geometric distribution.\n",
        "\n",
        "We consider three different experiments with probability of success of 0.2, 0.5 and 0.8 in that order.\n",
        "\n",
        "#### Visualizing the Probability Mass Function (PMF)\n",
        "\n"
      ]
    },
    {
      "cell_type": "code",
      "execution_count": null,
      "metadata": {
        "colab": {
          "base_uri": "https://localhost:8080/",
          "height": 509
        },
        "id": "BpFPBAjMdaQ0",
        "outputId": "ec04f74b-4ec1-4278-e2dd-22e2c903601a"
      },
      "outputs": [],
      "source": [
        "probs = [0.2, 0.5, 0.8] # probabilities for each experiments' successful\n",
        "x = np.arange(0,26,1) # range\n",
        "plt.figure(figsize=(8,4))\n",
        "print(x)\n",
        "\n",
        "#  /$$$$$$$$ /$$$$$$ /$$       /$$\n",
        "# | $$_____/|_  $$_/| $$      | $$\n",
        "# | $$        | $$  | $$      | $$\n",
        "# | $$$$$     | $$  | $$      | $$\n",
        "# | $$__/     | $$  | $$      | $$\n",
        "# | $$        | $$  | $$      | $$\n",
        "# | $$       /$$$$$$| $$$$$$$$| $$$$$$$$\n",
        "# |__/      |______/|________/|________/\n",
        "\n",
        "plt.legend([\"$p=0.2$\",\"$p=0.5$\",\"$p=0.8$\"],fontsize=15)\n",
        "plt.title(\"Probability mass function: $ (1-p)^{k-1} p$\\n\",fontsize=20)\n",
        "plt.xlabel(\"Success at $k$'th trial ($k$)\",fontsize=15)\n",
        "plt.ylabel(\"$P[k;p]$\",fontsize=15)\n",
        "plt.xticks(fontsize=15)\n",
        "plt.yticks(fontsize=15)\n",
        "plt.grid(True)\n",
        "plt.show()"
      ]
    },
    {
      "cell_type": "markdown",
      "metadata": {
        "id": "wuhSDbQ9daQ0"
      },
      "source": [
        "#### Visualizing the Cumulative Distribution Function (CDF)"
      ]
    },
    {
      "cell_type": "code",
      "execution_count": null,
      "metadata": {
        "colab": {
          "base_uri": "https://localhost:8080/",
          "height": 433
        },
        "id": "025RPc-vdaQ1",
        "outputId": "7ef9eb19-4218-4c32-f63b-cbd918c404e5"
      },
      "outputs": [],
      "source": [
        "probs = [0.2, 0.5, 0.8] # probabilities for each experiments' successful\n",
        "x = np.arange(0,26,1) # range\n",
        "plt.figure(figsize=(8,4))\n",
        "\n",
        "\n",
        "#  /$$$$$$$$ /$$$$$$ /$$       /$$\n",
        "# | $$_____/|_  $$_/| $$      | $$\n",
        "# | $$        | $$  | $$      | $$\n",
        "# | $$$$$     | $$  | $$      | $$\n",
        "# | $$__/     | $$  | $$      | $$\n",
        "# | $$        | $$  | $$      | $$\n",
        "# | $$       /$$$$$$| $$$$$$$$| $$$$$$$$\n",
        "# |__/      |______/|________/|________/\n",
        "\n",
        "plt.legend([\"$p=0.2$\",\"$p=0.5$\",\"$p=0.8$\"],fontsize=15)\n",
        "plt.title(\"Cumulative distribution function:\",fontsize=20)\n",
        "plt.xlabel(\"Success at $k$'th trial ($k$)\",fontsize=15)\n",
        "plt.ylabel(\"$F[k;p]$\",fontsize=15)\n",
        "plt.xticks(fontsize=15)\n",
        "plt.yticks(fontsize=15)\n",
        "plt.grid(True)\n",
        "plt.show()\n"
      ]
    },
    {
      "cell_type": "markdown",
      "metadata": {
        "id": "9aplg4zCB5ar"
      },
      "source": [
        "## Question 4 (14 points)"
      ]
    },
    {
      "cell_type": "markdown",
      "metadata": {
        "id": "fFzu9sCwCBx-"
      },
      "source": [
        "### Monte-Carlo Experiment\n",
        "In this part we will make a MC simulation for the **Problems-Q3** part a \\& b.\n",
        "\n",
        "In a party the host organizes a game with 99 empty boxes and 1 box with a prize. Each box is numbered 1 to 100 and there are 50 guests present in the party. Each guest takes a random box, checks if it has the prize and puts it back. If any of the guests finds the prize, the game finishes and the guests win, otherwise they lose.\n",
        "\n",
        "1.   What is the probability that guests win the game? (**7 points**)\n",
        "2.   Guests decide to unify and make a strategy beforehand. Each of them selects a number before the game starts and they make sure that no two guest selects the same number. What is the probability that guests win the game with this strategy? (**7 points**) \\\n",
        "\n",
        "Run 10000 trials for each part. Compare your theoretical and experimental solutions (You do not have to repeat your theoretical calculations in this part)."
      ]
    },
    {
      "cell_type": "code",
      "execution_count": 8,
      "metadata": {
        "colab": {
          "base_uri": "https://localhost:8080/"
        },
        "id": "xwyGaMJJB2hu",
        "outputId": "53ac0bf1-4038-4cdd-aee0-3fa5e4cec877"
      },
      "outputs": [],
      "source": [
        "# Q3a\n",
        "\n",
        "#  /$$$$$$$$ /$$$$$$ /$$       /$$\n",
        "# | $$_____/|_  $$_/| $$      | $$\n",
        "# | $$        | $$  | $$      | $$\n",
        "# | $$$$$     | $$  | $$      | $$\n",
        "# | $$__/     | $$  | $$      | $$\n",
        "# | $$        | $$  | $$      | $$\n",
        "# | $$       /$$$$$$| $$$$$$$$| $$$$$$$$\n",
        "# |__/      |______/|________/|________/\n"
      ]
    },
    {
      "cell_type": "code",
      "execution_count": 9,
      "metadata": {
        "colab": {
          "base_uri": "https://localhost:8080/"
        },
        "id": "Eru8qDMKDmwe",
        "outputId": "b7e32d44-7431-4c24-8fe0-60e2918a6d53"
      },
      "outputs": [],
      "source": [
        "# Q3b\n",
        "\n",
        "#  /$$$$$$$$ /$$$$$$ /$$       /$$\n",
        "# | $$_____/|_  $$_/| $$      | $$\n",
        "# | $$        | $$  | $$      | $$\n",
        "# | $$$$$     | $$  | $$      | $$\n",
        "# | $$__/     | $$  | $$      | $$\n",
        "# | $$        | $$  | $$      | $$\n",
        "# | $$       /$$$$$$| $$$$$$$$| $$$$$$$$\n",
        "# |__/      |______/|________/|________/\n"
      ]
    }
  ],
  "metadata": {
    "colab": {
      "provenance": [],
      "toc_visible": true
    },
    "kernelspec": {
      "display_name": "Python 3 (ipykernel)",
      "language": "python",
      "name": "python3"
    },
    "language_info": {
      "codemirror_mode": {
        "name": "ipython",
        "version": 3
      },
      "file_extension": ".py",
      "mimetype": "text/x-python",
      "name": "python",
      "nbconvert_exporter": "python",
      "pygments_lexer": "ipython3",
      "version": "3.9.12"
    }
  },
  "nbformat": 4,
  "nbformat_minor": 0
}
