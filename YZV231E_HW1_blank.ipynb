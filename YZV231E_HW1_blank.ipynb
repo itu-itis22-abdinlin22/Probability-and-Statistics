{
 "cells": [
  {
   "cell_type": "markdown",
   "metadata": {
    "id": "1A_EV1-s54d5"
   },
   "source": [
    "### Q1 (14 points)\n",
    "Three friends called Alice, Bob and Carol play the game called rock, paper, scissors. Rules of the game are simple:\n",
    "- Rock beats scissors, scissors beat paper and paper beats rock. \\\n",
    "[//]: #\n",
    "They play for $N$ turns. Each turn they randomly select two people to play. Three friends follow the given policies:\n",
    "- Alice: Believes rock is the best choice. Selects rock %80 of the time.\n",
    "- Bob: Believes rock is the weakest choice. Selects rock only %20 of the time.\n",
    "- Carol: Plays randomly. \\\n",
    "[//]: #\n",
    "Code and run the game for N=1000000 trials. Please answer the following questions:\n",
    "\n",
    "1. Let X and Y denote the names of the two players in a game and let S be the random variable that shows the choice of rock (S=1), paper (S=2) and scissors (S=3) by the player X. Plot the p.m.f of S. Compare with your theoretical solution.(**5 points**)\n",
    "\n",
    "2. What is the probability that S=i will be selected in a game by at least one of the players? Compute separately for i=1, 2 and 3. Compare with your theoretical solution.(**4 points**)\n",
    "\n",
    "3. A pair of players is about to be formed to play the game. What is the probability of winning for Alice, Bob and Carol? What is the probability of a draw? Compare with your theoretical solution.(**5 points**)\n"
   ]
  },
  {
   "cell_type": "code",
   "execution_count": null,
   "metadata": {},
   "outputs": [],
   "source": [
    "# Use only these three libraries, they should be enough for this project\n",
    "import random\n",
    "import math\n",
    "import matplotlib.pyplot as plt\n",
    "random.seed(0)\n",
    "\n",
    "\n",
    "### Code Your MC Simulation here ###\n",
    "..."
   ]
  },
  {
   "cell_type": "markdown",
   "metadata": {},
   "source": [
    "#### Q1 - Part 1 Solution\n",
    "..."
   ]
  },
  {
   "cell_type": "code",
   "execution_count": null,
   "metadata": {},
   "outputs": [],
   "source": [
    "# Q1 - PART1 SOLUTION\n",
    "..."
   ]
  },
  {
   "cell_type": "markdown",
   "metadata": {},
   "source": [
    "#### Q1 - Part 2 Solution\n",
    "..."
   ]
  },
  {
   "cell_type": "code",
   "execution_count": null,
   "metadata": {},
   "outputs": [],
   "source": [
    "# Q1 - PART2 SOLUTION\n",
    "..."
   ]
  },
  {
   "cell_type": "markdown",
   "metadata": {},
   "source": [
    "#### Q1 - Part 3 Solution\n",
    "..."
   ]
  },
  {
   "cell_type": "code",
   "execution_count": null,
   "metadata": {},
   "outputs": [],
   "source": [
    "# Q1 - PART3 SOLUTION\n",
    "..."
   ]
  },
  {
   "cell_type": "markdown",
   "metadata": {
    "id": "9U3gPo5lLFwa"
   },
   "source": [
    "### Q2 (16 points)\n",
    "A probability course has 90 students enrolled. There are 14 weeks in each semester. Assume that, each student has a probability $p_w=0.6\\left(1-4\\left(\\frac{\\left(w-1\\right)}{13}\\cdot\\left(1-\\frac{\\left(w-1\\right)}{13}\\right)\\right)\\right)+0.2$ to be present in class at week w. \\\n",
    "Code and run a Monte Carlo experiment for N=100000 trials in each week to the calculate number of students present in class. Please answer the following questions: \n",
    "\n",
    "0. Show $p_w$ for each week in a bar chart (**1 points**).\n",
    "1. Show the pmf and cdf of the number of students present for the first week (**3 points**).\n",
    "2. What is the probability that at least 60 students are present at week w? Show over a bar chart and comment on your findings (**3 points**).\n",
    "3. Given that there are 30 students present in class, show the conditional pmf of w. What is the probability of the current week to be week 7 under this condition? (**3 points**)\n",
    "- Also plot the theoretical values over experimental results with a different color for parts 1,2 and 3 (**2 points in each part**)."
   ]
  },
  {
   "cell_type": "code",
   "execution_count": null,
   "metadata": {},
   "outputs": [],
   "source": [
    "# Use only these three libraries, they should be enough for this project\n",
    "import random\n",
    "import math\n",
    "import matplotlib.pyplot as plt\n",
    "random.seed(0)\n",
    "\n",
    "\n",
    "### Code Your MC Simulation here ###\n",
    "..."
   ]
  },
  {
   "cell_type": "markdown",
   "metadata": {},
   "source": [
    "#### Q2 - Part 0 Solution\n",
    "..."
   ]
  },
  {
   "cell_type": "code",
   "execution_count": null,
   "metadata": {},
   "outputs": [],
   "source": [
    "# Q2 - PART0 SOLUTION\n",
    "..."
   ]
  },
  {
   "cell_type": "markdown",
   "metadata": {},
   "source": [
    "#### Q2 - Part 1 Solution\n",
    "..."
   ]
  },
  {
   "cell_type": "code",
   "execution_count": null,
   "metadata": {},
   "outputs": [],
   "source": [
    "# Q2 - PART1 SOLUTION\n",
    "..."
   ]
  },
  {
   "cell_type": "markdown",
   "metadata": {},
   "source": [
    "#### Q2 - Part 2 Solution\n",
    "..."
   ]
  },
  {
   "cell_type": "code",
   "execution_count": null,
   "metadata": {},
   "outputs": [],
   "source": [
    "# Q2 - PART2 SOLUTION\n",
    "..."
   ]
  },
  {
   "cell_type": "markdown",
   "metadata": {},
   "source": [
    "#### Q2 - Part 3 Solution\n",
    "..."
   ]
  },
  {
   "cell_type": "code",
   "execution_count": null,
   "metadata": {},
   "outputs": [],
   "source": [
    "# Q2 - PART3 SOLUTION\n",
    "..."
   ]
  }
 ],
 "metadata": {
  "colab": {
   "provenance": []
  },
  "kernelspec": {
   "display_name": "Python 3 (ipykernel)",
   "language": "python",
   "name": "python3"
  },
  "language_info": {
   "codemirror_mode": {
    "name": "ipython",
    "version": 3
   },
   "file_extension": ".py",
   "mimetype": "text/x-python",
   "name": "python",
   "nbconvert_exporter": "python",
   "pygments_lexer": "ipython3",
   "version": "3.11.5"
  }
 },
 "nbformat": 4,
 "nbformat_minor": 1
}
