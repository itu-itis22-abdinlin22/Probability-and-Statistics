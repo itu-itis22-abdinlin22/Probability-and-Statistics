{
 "cells": [
  {
   "cell_type": "code",
   "execution_count": null,
   "id": "fc62e0b5",
   "metadata": {},
   "outputs": [],
   "source": [
    "# Name:\n",
    "# Surname:\n",
    "# ID:"
   ]
  },
  {
   "cell_type": "code",
   "execution_count": null,
   "id": "8560246f",
   "metadata": {},
   "outputs": [],
   "source": [
    "import numpy as np\n",
    "import pandas as pd\n",
    "import scipy.stats as stats\n",
    "import seaborn as sns\n",
    "import matplotlib.pyplot as plt\n",
    "%matplotlib inline\n",
    "# Do not include any other libraries!!!"
   ]
  },
  {
   "cell_type": "markdown",
   "id": "8da6b462",
   "metadata": {},
   "source": [
    "## Skewness [15 pts]"
   ]
  },
  {
   "cell_type": "markdown",
   "id": "4107ac81",
   "metadata": {},
   "source": [
    "In this part, you will calculate the skewness value of a skewed normal distribution. First, let's plot the histogram of the distribution:"
   ]
  },
  {
   "cell_type": "code",
   "execution_count": null,
   "id": "28f5b983",
   "metadata": {},
   "outputs": [],
   "source": [
    "np.random.seed(42)\n",
    "\n",
    "# Generate a random sample from a skewed normal distribution\n",
    "skewness_parameter = 10\n",
    "sample_size = 1000\n",
    "data_skewed = stats.skewnorm.rvs(a=skewness_parameter, size=sample_size)\n",
    "\n",
    "# Plot the histogram of the skewed data\n",
    "plt.hist(data_skewed, bins=20, density=True, color='skyblue', edgecolor='black', alpha=0.7)\n",
    "\n",
    "# Plot the theoretical distribution for comparison\n",
    "xmin, xmax = plt.xlim()\n",
    "x = np.linspace(xmin, xmax, 100)\n",
    "p = stats.skewnorm.pdf(x, skewness_parameter)\n",
    "plt.plot(x, p, 'k', linewidth=2)\n",
    "\n",
    "# Add labels\n",
    "plt.title(\"Skewed Normal Distribution and Skewness\")\n",
    "plt.xlabel(\"Value\")\n",
    "plt.ylabel(\"Density\")\n",
    "\n",
    "# Show the plot\n",
    "plt.show()"
   ]
  },
  {
   "cell_type": "markdown",
   "id": "468a6f6c",
   "metadata": {},
   "source": [
    "The sample skewness is computed as the Fisher-Pearson coefficient of skewness, i.e.\n",
    "\n",
    "\\begin{align*}\n",
    "g_1 &= \\frac{m_{3}}{m^{3/2}_2} \\\\\n",
    "\\end{align*}\n",
    "\n",
    "where\n",
    "\n",
    "\\begin{align*}\n",
    "m_i &= \\tfrac{1}{N}\\sum_{n=1}^{N}(x[n]-\\bar{x})^{i} \\\\\n",
    "\\end{align*}\n",
    "\n",
    "is the biased sample $i$th central moment, $\\bar{x}$ is the sample mean, and $N$ is the sample size. For an unbiased result, the calculations are corrected for bias and the value computed is the adjusted Fisher-Pearson standardized moment coefficient, i.e.\n",
    "\n",
    "\n",
    "\\begin{align*}\n",
    "G_{1} &= \\frac{k_3}{k_2^{3/2}} = \\frac{\\sqrt{N(N-1)}}{N-2}\\frac{m_3}{m_2^{3/2}} \\\\\n",
    "\\end{align*}"
   ]
  },
  {
   "cell_type": "markdown",
   "id": "9d3fecee",
   "metadata": {},
   "source": [
    "**[5 pts]** Now implement the **calculate_skewness()** function by using $G_1$ above."
   ]
  },
  {
   "cell_type": "code",
   "execution_count": null,
   "id": "1ff594f5",
   "metadata": {},
   "outputs": [],
   "source": [
    "def calculate_skewness(data):\n",
    "    \"\"\"\n",
    "    Args:\n",
    "        data (numpy.ndarray): A skewed normal distribution.\n",
    "    Returns:\n",
    "        int: Skeweness value of the input distribution.\n",
    "    \"\"\"\n",
    "    #######    CODE HERE    #######\n",
    "\n",
    "    \n",
    "    #######    CODE HERE    #######"
   ]
  },
  {
   "cell_type": "code",
   "execution_count": null,
   "id": "5e220157",
   "metadata": {},
   "outputs": [],
   "source": [
    "# Your calculation\n",
    "est_skewness = calculate_skewness(data_skewed)\n",
    "\n",
    "# Library call\n",
    "true_skewness = stats.skew(data_skewed, bias=False)\n",
    "\n",
    "print(est_skewness, true_skewness)"
   ]
  },
  {
   "cell_type": "code",
   "execution_count": null,
   "id": "1af67415",
   "metadata": {},
   "outputs": [],
   "source": [
    "#Check if your implementation is correct\n",
    "assert round(est_skewness, 5) == round(true_skewness, 5), \\\n",
    "    f\"Skewness value is wrong \\n Your calculation: {round(est_skewness, 5)} \\n \\\n",
    "    True Value: {round(true_skewness, 5)}\"\n",
    "print(\"Your calculation is correct!\")"
   ]
  },
  {
   "cell_type": "markdown",
   "id": "436e772b",
   "metadata": {},
   "source": [
    "**[5 pts]** Find the **mean and median** values of the distribution. Plot the distribution and highlight mean and median values on the graph."
   ]
  },
  {
   "cell_type": "code",
   "execution_count": null,
   "id": "7a0754a4",
   "metadata": {},
   "outputs": [],
   "source": [
    "#######    CODE HERE    #######\n",
    "\n",
    "\n",
    "#######    CODE HERE    #######"
   ]
  },
  {
   "cell_type": "markdown",
   "id": "2519dc68",
   "metadata": {},
   "source": [
    "**[5 pts]** What does this skewness coefficient you found mean? Explain this using the relationship between the mean and median of the distribution."
   ]
  },
  {
   "cell_type": "markdown",
   "id": "f1a5fd1d",
   "metadata": {},
   "source": [
    "**Answer:** "
   ]
  },
  {
   "cell_type": "markdown",
   "id": "61c3ef10",
   "metadata": {},
   "source": [
    "## Central Limit Theorem"
   ]
  },
  {
   "cell_type": "markdown",
   "id": "aed88244",
   "metadata": {},
   "source": [
    "In this part, you will do repeated experiments to see the effect of the **Central Limit Theorem**. For each\n",
    "experiment you will roll a fair die for 'num_rolls' times. Also you will repeat this experiment for 'num_experiments' times. Then you need to repeat this process and plot the distributions for\n",
    "each value in 'num_rolls' list."
   ]
  },
  {
   "cell_type": "markdown",
   "id": "11cf1b73",
   "metadata": {},
   "source": [
    "**[5 pts]** For this first code section, you will get the **sum** of the dice rolled for each experiment."
   ]
  },
  {
   "cell_type": "code",
   "execution_count": null,
   "id": "c3c67bfe",
   "metadata": {},
   "outputs": [],
   "source": [
    "# Number of dice rolls for each experiment\n",
    "num_rolls = [50, 100, 200, 400]\n",
    "\n",
    "# Number of experiments\n",
    "num_experiments = 1000\n",
    "\n",
    "# Create a 2x2 grid of subplots\n",
    "fig, axes = plt.subplots(nrows=2, ncols=2, figsize=(10, 8), sharey=True)\n",
    "\n",
    "# Flatten the axes array to simplify indexing in the loop\n",
    "axes = axes.flatten()\n",
    "\n",
    "for i, ax in enumerate(axes):\n",
    "    np.random.seed(42)\n",
    "    #######    CODE HERE    #######\n",
    "\n",
    "    \n",
    "    #######    CODE HERE    #######\n",
    "    \n",
    "# Adjust layout to prevent subplot titles from overlapping\n",
    "plt.tight_layout()\n",
    "\n",
    "# Show the plot\n",
    "plt.show()"
   ]
  },
  {
   "cell_type": "markdown",
   "id": "17118e38",
   "metadata": {},
   "source": [
    "**[5 pts]** And for this code section, you will get the **average** of the dice rolled for each experiment."
   ]
  },
  {
   "cell_type": "code",
   "execution_count": null,
   "id": "f5452f50",
   "metadata": {},
   "outputs": [],
   "source": [
    "# Number of dice rolls for each experiment\n",
    "num_rolls = [50, 100, 200, 400]\n",
    "\n",
    "# Number of experiments\n",
    "num_experiments = 1000\n",
    "\n",
    "# Create a 2x2 grid of subplots\n",
    "fig, axes = plt.subplots(nrows=2, ncols=2, figsize=(10, 8), sharex=True, sharey=True)\n",
    "\n",
    "# Flatten the axes array to simplify indexing in the loop\n",
    "axes = axes.flatten()\n",
    "\n",
    "for i, ax in enumerate(axes):\n",
    "    #######    CODE HERE    #######\n",
    "\n",
    "    \n",
    "    #######    CODE HERE    #######\n",
    "\n",
    "# Adjust layout to prevent subplot titles from overlapping\n",
    "plt.tight_layout()\n",
    "\n",
    "# Show the plot\n",
    "plt.show()"
   ]
  },
  {
   "cell_type": "markdown",
   "id": "dcc19f91",
   "metadata": {},
   "source": [
    "The resulting plots should look like these:\n",
    "![Plot1](images/sum.png)\n",
    "![Plot2](images/avg.png)"
   ]
  },
  {
   "cell_type": "markdown",
   "id": "0934235d",
   "metadata": {},
   "source": [
    "As you see in the graphs, even thoug our initial distribution (rolling a dice) is **uniform**, the resulting distributions are **normal**. This is the effect of **the Central Limit Theorem**."
   ]
  },
  {
   "cell_type": "markdown",
   "id": "287a9643",
   "metadata": {},
   "source": [
    "**[5 pts]** As we increase the number of rolls for each experiment, the distribution becomes flatter when we get the sum of the numbers. However, when averaging the numbers, the distribution becomes sharper. Why?"
   ]
  },
  {
   "cell_type": "markdown",
   "id": "1a868f80",
   "metadata": {},
   "source": [
    "**Answer:** "
   ]
  }
 ],
 "metadata": {
  "kernelspec": {
   "display_name": "Python 3 (ipykernel)",
   "language": "python",
   "name": "python3"
  },
  "language_info": {
   "codemirror_mode": {
    "name": "ipython",
    "version": 3
   },
   "file_extension": ".py",
   "mimetype": "text/x-python",
   "name": "python",
   "nbconvert_exporter": "python",
   "pygments_lexer": "ipython3",
   "version": "3.10.9"
  }
 },
 "nbformat": 4,
 "nbformat_minor": 5
}
